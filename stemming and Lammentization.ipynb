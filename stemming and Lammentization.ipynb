{
 "cells": [
  {
   "cell_type": "code",
   "execution_count": 2,
   "metadata": {},
   "outputs": [],
   "source": [
    "import nltk\n",
    "from nltk.stem import PorterStemmer\n",
    "from nltk.stem import WordNetLemmatizer\n",
    "from nltk.corpus import stopwords"
   ]
  },
  {
   "cell_type": "code",
   "execution_count": null,
   "metadata": {},
   "outputs": [],
   "source": []
  },
  {
   "cell_type": "code",
   "execution_count": 3,
   "metadata": {},
   "outputs": [],
   "source": [
    "paragraphs = \"\"\"I have three visions for India.\n",
    "                In 3000 years of our history, people from allover the world have come and invaded us, captured our lands, conquered our minds.\n",
    "                From Alexander onwards. The Greeks, the Portuguese, the British, the French, the Dutch, all of them came and looted us, took over what was ours.\n",
    "                Yet we have not done this to any other nation. We have not conquered anyone. We have not grabbed their land, their culture, their history tried to enforce our way of life on them.\n",
    "                Why? Because we respect the freedom of others.\n",
    "                That is why my first vision is that of FREEDOM.\n",
    "                I believe that India got its first vision of this in 1857, when we started the war of independence.\n",
    "                It is this freedom that we must protect and nurture and built on. If we are not free, no one will respect us.\n",
    "                My second vision for India is DEVELOPMENT. For fifty years we have been a developing nation.\n",
    "                It is time we see ourselves as a developed nation. We are among top 5 nations of the world in terms of GDP.\n",
    "                We have 10 percent growth rate in most areas. Our poverty levels are falling, our achievements are being globally recognized today.\n",
    "                Yet we lack the self-confidence to see ourselves as a developed nation, self reliant and self assured. Isn't this right?\n",
    "                I have a third vision. The India must stand up to the world. Because I believe that unless India stands up to the world, no one will respect us.\n",
    "                Only strength respects strength. We must be strong not only as a military power but also as an economic power. Both must go hand-in-hand.\n",
    "                My good fortune was to have work with three great minds. Dr Vikram Sarabhai of the Dept. of space, Professor Satish Dhawan, who succeeded him, and Dr.Brahm Prakash, father of nuclear material. \n",
    "                I was lucky to have worked with all three of them closely and consider this the great opportunity of my life.\n",
    "                I see four milestones in my career\n",
    "                \"\"\""
   ]
  },
  {
   "cell_type": "code",
   "execution_count": 4,
   "metadata": {},
   "outputs": [],
   "source": [
    "sentences = nltk.sent_tokenize(paragraphs)\n",
    "stemmer = PorterStemmer()"
   ]
  },
  {
   "cell_type": "code",
   "execution_count": 12,
   "metadata": {},
   "outputs": [],
   "source": [
    "#stemming\n",
    "for i in range(len(sentences)):\n",
    "    words = nltk.word_tokenize(sentences[i])\n",
    "    words = [word for word in words if word not in stopwords.words(\"english\") ]\n",
    "    words = [stemmer.stem(word) for word in words]\n",
    "    sentences[i] = \" \".join(words)"
   ]
  },
  {
   "cell_type": "code",
   "execution_count": 13,
   "metadata": {},
   "outputs": [
    {
     "data": {
      "text/plain": [
       "['I three vision india .',\n",
       " 'In 3000 year histori , peopl allov world come invad u , captur land , conquer mind .',\n",
       " 'from alexand onward .',\n",
       " 'the greek , portugues , british , french , dutch , came loot u , took .',\n",
       " 'yet done nation .',\n",
       " 'We conquer anyon .',\n",
       " 'We grab land , cultur , histori tri enforc way life .',\n",
       " 'whi ?',\n",
       " 'becaus respect freedom other .',\n",
       " 'that first vision freedom .',\n",
       " 'I believ india got first vision 1857 , start war independ .',\n",
       " 'It freedom must protect nurtur built .',\n",
       " 'If free , one respect u .',\n",
       " 'My second vision india develop .',\n",
       " 'for fifti year develop nation .',\n",
       " 'It time see develop nation .',\n",
       " 'We among top 5 nation world term gdp .',\n",
       " 'We 10 percent growth rate area .',\n",
       " 'our poverti level fall , achiev global recogn today .',\n",
       " 'yet lack self-confid see develop nation , self reliant self assur .',\n",
       " \"Is n't right ?\",\n",
       " 'I third vision .',\n",
       " 'the india must stand world .',\n",
       " 'becaus I believ unless india stand world , one respect u .',\n",
       " 'onli strength respect strength .',\n",
       " 'We must strong militari power also econom power .',\n",
       " 'both must go hand-in-hand .',\n",
       " 'My good fortun work three great mind .',\n",
       " 'Dr vikram sarabhai dept .',\n",
       " 'space , professor satish dhawan , succeed , dr.brahm prakash , father nuclear materi .',\n",
       " 'I lucki work three close consid great opportun life .',\n",
       " 'I see four mileston career']"
      ]
     },
     "execution_count": 13,
     "metadata": {},
     "output_type": "execute_result"
    }
   ],
   "source": [
    "sentences"
   ]
  },
  {
   "cell_type": "markdown",
   "metadata": {},
   "source": [
    "## LAMENTIZATION"
   ]
  },
  {
   "cell_type": "code",
   "execution_count": 7,
   "metadata": {},
   "outputs": [],
   "source": [
    "paragraphs = \"\"\"I have three visions for India.\n",
    "                In 3000 years of our history, people from allover the world have come and invaded us, captured our lands, conquered our minds.\n",
    "                From Alexander onwards. The Greeks, the Portuguese, the British, the French, the Dutch, all of them came and looted us, took over what was ours.\n",
    "                Yet we have not done this to any other nation. We have not conquered anyone. We have not grabbed their land, their culture, their history tried to enforce our way of life on them.\n",
    "                Why? Because we respect the freedom of others.\n",
    "                That is why my first vision is that of FREEDOM.\n",
    "                I believe that India got its first vision of this in 1857, when we started the war of independence.\n",
    "                It is this freedom that we must protect and nurture and built on. If we are not free, no one will respect us.\n",
    "                My second vision for India is DEVELOPMENT. For fifty years we have been a developing nation.\n",
    "                It is time we see ourselves as a developed nation. We are among top 5 nations of the world in terms of GDP.\n",
    "                We have 10 percent growth rate in most areas. Our poverty levels are falling, our achievements are being globally recognized today.\n",
    "                Yet we lack the self-confidence to see ourselves as a developed nation, self reliant and self assured. Isn't this right?\n",
    "                I have a third vision. The India must stand up to the world. Because I believe that unless India stands up to the world, no one will respect us.\n",
    "                Only strength respects strength. We must be strong not only as a military power but also as an economic power. Both must go hand-in-hand.\n",
    "                My good fortune was to have work with three great minds. Dr Vikram Sarabhai of the Dept. of space, Professor Satish Dhawan, who succeeded him, and Dr.Brahm Prakash, father of nuclear material. \n",
    "                I was lucky to have worked with all three of them closely and consider this the great opportunity of my life.\n",
    "                I see four milestones in my career\n",
    "                \"\"\""
   ]
  },
  {
   "cell_type": "code",
   "execution_count": 8,
   "metadata": {},
   "outputs": [],
   "source": [
    "lemmatizer = WordNetLemmatizer()"
   ]
  },
  {
   "cell_type": "code",
   "execution_count": 9,
   "metadata": {},
   "outputs": [],
   "source": [
    "sentences = nltk.sent_tokenize(paragraphs)"
   ]
  },
  {
   "cell_type": "code",
   "execution_count": 10,
   "metadata": {},
   "outputs": [],
   "source": [
    "for i in range(len(sentences)):\n",
    "    words = nltk.word_tokenize(sentences[i])\n",
    "    words = [word for word in words if word not in stopwords.words(\"english\")]\n",
    "    words = [lemmatizer.lemmatize(word) for word in words]\n",
    "    sentences[i] = \" \".join(words)"
   ]
  },
  {
   "cell_type": "code",
   "execution_count": 11,
   "metadata": {},
   "outputs": [
    {
     "data": {
      "text/plain": [
       "['I three vision India .',\n",
       " 'In 3000 year history , people allover world come invaded u , captured land , conquered mind .',\n",
       " 'From Alexander onwards .',\n",
       " 'The Greeks , Portuguese , British , French , Dutch , came looted u , took .',\n",
       " 'Yet done nation .',\n",
       " 'We conquered anyone .',\n",
       " 'We grabbed land , culture , history tried enforce way life .',\n",
       " 'Why ?',\n",
       " 'Because respect freedom others .',\n",
       " 'That first vision FREEDOM .',\n",
       " 'I believe India got first vision 1857 , started war independence .',\n",
       " 'It freedom must protect nurture built .',\n",
       " 'If free , one respect u .',\n",
       " 'My second vision India DEVELOPMENT .',\n",
       " 'For fifty year developing nation .',\n",
       " 'It time see developed nation .',\n",
       " 'We among top 5 nation world term GDP .',\n",
       " 'We 10 percent growth rate area .',\n",
       " 'Our poverty level falling , achievement globally recognized today .',\n",
       " 'Yet lack self-confidence see developed nation , self reliant self assured .',\n",
       " \"Is n't right ?\",\n",
       " 'I third vision .',\n",
       " 'The India must stand world .',\n",
       " 'Because I believe unless India stand world , one respect u .',\n",
       " 'Only strength respect strength .',\n",
       " 'We must strong military power also economic power .',\n",
       " 'Both must go hand-in-hand .',\n",
       " 'My good fortune work three great mind .',\n",
       " 'Dr Vikram Sarabhai Dept .',\n",
       " 'space , Professor Satish Dhawan , succeeded , Dr.Brahm Prakash , father nuclear material .',\n",
       " 'I lucky worked three closely consider great opportunity life .',\n",
       " 'I see four milestone career']"
      ]
     },
     "execution_count": 11,
     "metadata": {},
     "output_type": "execute_result"
    }
   ],
   "source": [
    "sentences"
   ]
  },
  {
   "cell_type": "code",
   "execution_count": null,
   "metadata": {},
   "outputs": [],
   "source": []
  }
 ],
 "metadata": {
  "kernelspec": {
   "display_name": "Python 3",
   "language": "python",
   "name": "python3"
  },
  "language_info": {
   "codemirror_mode": {
    "name": "ipython",
    "version": 3
   },
   "file_extension": ".py",
   "mimetype": "text/x-python",
   "name": "python",
   "nbconvert_exporter": "python",
   "pygments_lexer": "ipython3",
   "version": "3.8.5"
  }
 },
 "nbformat": 4,
 "nbformat_minor": 4
}
